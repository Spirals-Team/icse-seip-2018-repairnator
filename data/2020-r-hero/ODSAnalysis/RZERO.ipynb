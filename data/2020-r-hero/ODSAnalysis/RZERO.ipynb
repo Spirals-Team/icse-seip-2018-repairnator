{
 "cells": [
  {
   "cell_type": "code",
   "execution_count": 14,
   "metadata": {},
   "outputs": [],
   "source": [
    "from pandas import DataFrame, read_excel\n",
    "import pandas as pd\n",
    "import numpy as np\n",
    "from sklearn.feature_extraction.text import CountVectorizer\n",
    "from sklearn.model_selection import GridSearchCV\n",
    "from sklearn.metrics import confusion_matrix\n",
    "#IMPORT MODELS\n",
    "from sklearn.linear_model import LogisticRegression\n",
    "from sklearn.ensemble import RandomForestClassifier\n",
    "from sklearn.ensemble import AdaBoostClassifier\n",
    "from sklearn import svm\n",
    "from sklearn.metrics import roc_auc_score\n",
    "from sklearn.metrics import accuracy_score\n",
    "from sklearn.metrics import fbeta_score\n",
    "from sklearn.metrics import recall_score\n",
    "from sklearn.model_selection import GridSearchCV\n",
    "from sklearn.decomposition import PCA\n",
    "import seaborn as sns\n",
    "from sklearn.metrics import recall_score\n",
    "from sklearn.metrics import f1_score\n",
    "from sklearn.metrics import precision_score\n",
    "from sklearn.metrics import accuracy_score\n",
    "\n",
    "import matplotlib.pyplot as plt\n",
    "import itertools\n",
    "def plot_confusion_matrix(cm, classes,\n",
    "                          title='Confusion matrix',\n",
    "                          cmap=plt.cm.binary):\n",
    "    \"\"\"\n",
    "    This function prints and plots the confusion matrix.\n",
    "    \"\"\"\n",
    "    plt.imshow(cm, interpolation='nearest', cmap=cmap)\n",
    "    plt.title(title)\n",
    "    plt.colorbar()\n",
    "    tick_marks = np.arange(len(classes))\n",
    "    plt.xticks(tick_marks, classes, rotation=0)\n",
    "    plt.yticks(tick_marks, classes)\n",
    "\n",
    "    thresh = cm.max() / 2.\n",
    "    for i, j in itertools.product(range(cm.shape[0]), range(cm.shape[1])):\n",
    "        plt.text(j, i, cm[i, j],\n",
    "                 horizontalalignment=\"center\",\n",
    "                 color=\"white\" if cm[i, j] > thresh else \"black\")\n",
    "\n",
    "    plt.tight_layout()\n",
    "    plt.ylabel('True label')\n",
    "    plt.xlabel('Predicted label')\n"
   ]
  },
  {
   "cell_type": "markdown",
   "metadata": {},
   "source": [
    "# Loading data"
   ]
  },
  {
   "cell_type": "code",
   "execution_count": 15,
   "metadata": {},
   "outputs": [],
   "source": [
    "#read training and test data\n",
    "p4jtraining = pd.DataFrame()\n",
    "addtraining = pd.DataFrame()\n",
    "s4rtraining = pd.DataFrame()\n",
    "p4jtest = pd.DataFrame()\n",
    "addtest = pd.DataFrame()\n",
    "s4rtest = pd.DataFrame()\n",
    "\n",
    "P4J_training_list= [\"./data/P4JD4J.csv\"]\n",
    "ADD_training_list= [\"./data/AddD4J.csv\"]\n",
    "S4R_training_list= [\"./data/S4RD4J.csv\"]\n",
    "\n",
    "RZero_testing_list= [\"./data/RZeroFeatures.csv\"]\n"
   ]
  },
  {
   "cell_type": "code",
   "execution_count": 16,
   "metadata": {},
   "outputs": [
    {
     "data": {
      "text/plain": [
       "(10302, 204)"
      ]
     },
     "execution_count": 16,
     "metadata": {},
     "output_type": "execute_result"
    }
   ],
   "source": [
    "for f in P4J_training_list:\n",
    "    data = pd.read_csv(f, encoding='latin1',index_col=False)\n",
    "    p4jtraining = p4jtraining.append(data, ignore_index=True)\n",
    "    \n",
    "for f in ADD_training_list:\n",
    "    data = pd.read_csv(f, encoding='latin1',index_col=False)\n",
    "    addtraining = addtraining.append(data, ignore_index=True)\n",
    "    \n",
    "    \n",
    "for f in S4R_training_list:\n",
    "    data = pd.read_csv(f, encoding='latin1',index_col=False)\n",
    "    s4rtraining = s4rtraining.append(data, ignore_index=True)    \n",
    "    \n",
    "    \n",
    "p4jtraining=p4jtraining.iloc[:,:152]\n",
    "addtraining=addtraining.iloc[:,:28]\n",
    "s4rtest=s4rtest.iloc[:,:28]\n",
    "addtraining=addtraining.drop(columns='label')\n",
    "s4rtraining=s4rtraining.drop(columns='label')\n",
    "training = p4jtraining.merge(addtraining, on=\"id\").merge(s4rtraining, on=\"id\")  \n",
    "\n",
    "training.shape"
   ]
  },
  {
   "cell_type": "code",
   "execution_count": 17,
   "metadata": {},
   "outputs": [
    {
     "data": {
      "text/html": [
       "<div>\n",
       "<style scoped>\n",
       "    .dataframe tbody tr th:only-of-type {\n",
       "        vertical-align: middle;\n",
       "    }\n",
       "\n",
       "    .dataframe tbody tr th {\n",
       "        vertical-align: top;\n",
       "    }\n",
       "\n",
       "    .dataframe thead th {\n",
       "        text-align: right;\n",
       "    }\n",
       "</style>\n",
       "<table border=\"1\" class=\"dataframe\">\n",
       "  <thead>\n",
       "    <tr style=\"text-align: right;\">\n",
       "      <th></th>\n",
       "      <th>id</th>\n",
       "      <th>label</th>\n",
       "      <th>srcABSTV</th>\n",
       "      <th>srcAssignConst</th>\n",
       "      <th>srcAssignLHS</th>\n",
       "      <th>srcAssignZero</th>\n",
       "      <th>srcCALLEE</th>\n",
       "      <th>srcCallArgument</th>\n",
       "      <th>srcChanged</th>\n",
       "      <th>srcDEREF</th>\n",
       "      <th>...</th>\n",
       "      <th>similarObjectTypeWithNullGuard</th>\n",
       "      <th>typeOfFaultyStmt</th>\n",
       "      <th>fieldNotAssigned</th>\n",
       "      <th>fieldNotUsed</th>\n",
       "      <th>similarPrimitiveTypeWithNormalGuard</th>\n",
       "      <th>similarPrimitiveTypeWithNullGuard</th>\n",
       "      <th>methodThrowsException</th>\n",
       "      <th>objectUsedInAssignment</th>\n",
       "      <th>primitiveUsedInAssignment</th>\n",
       "      <th>methodCallWithNormalGuard</th>\n",
       "    </tr>\n",
       "  </thead>\n",
       "  <tbody>\n",
       "    <tr>\n",
       "      <th>0</th>\n",
       "      <td>GenProg_patch_Defects4J_Chart_1_0_129</td>\n",
       "      <td>1</td>\n",
       "      <td>0.0</td>\n",
       "      <td>0.0</td>\n",
       "      <td>0.0</td>\n",
       "      <td>0.0</td>\n",
       "      <td>1.0</td>\n",
       "      <td>0.0</td>\n",
       "      <td>0.0</td>\n",
       "      <td>0.0</td>\n",
       "      <td>...</td>\n",
       "      <td>0</td>\n",
       "      <td>LocalVariable</td>\n",
       "      <td>0</td>\n",
       "      <td>0</td>\n",
       "      <td>0</td>\n",
       "      <td>0</td>\n",
       "      <td>0</td>\n",
       "      <td>0</td>\n",
       "      <td>0.0</td>\n",
       "      <td>0.0</td>\n",
       "    </tr>\n",
       "    <tr>\n",
       "      <th>1</th>\n",
       "      <td>GenProg_patch_Defects4J_Chart_1_0_31</td>\n",
       "      <td>1</td>\n",
       "      <td>0.0</td>\n",
       "      <td>0.0</td>\n",
       "      <td>0.0</td>\n",
       "      <td>0.0</td>\n",
       "      <td>2.0</td>\n",
       "      <td>1.0</td>\n",
       "      <td>0.0</td>\n",
       "      <td>0.0</td>\n",
       "      <td>...</td>\n",
       "      <td>0</td>\n",
       "      <td>LocalVariable</td>\n",
       "      <td>0</td>\n",
       "      <td>0</td>\n",
       "      <td>0</td>\n",
       "      <td>0</td>\n",
       "      <td>0</td>\n",
       "      <td>0</td>\n",
       "      <td>0.0</td>\n",
       "      <td>0.0</td>\n",
       "    </tr>\n",
       "  </tbody>\n",
       "</table>\n",
       "<p>2 rows × 204 columns</p>\n",
       "</div>"
      ],
      "text/plain": [
       "                                      id  label  srcABSTV  srcAssignConst  \\\n",
       "0  GenProg_patch_Defects4J_Chart_1_0_129      1       0.0             0.0   \n",
       "1   GenProg_patch_Defects4J_Chart_1_0_31      1       0.0             0.0   \n",
       "\n",
       "   srcAssignLHS  srcAssignZero  srcCALLEE  srcCallArgument  srcChanged  \\\n",
       "0           0.0            0.0        1.0              0.0         0.0   \n",
       "1           0.0            0.0        2.0              1.0         0.0   \n",
       "\n",
       "   srcDEREF  ...  similarObjectTypeWithNullGuard  typeOfFaultyStmt  \\\n",
       "0       0.0  ...                               0     LocalVariable   \n",
       "1       0.0  ...                               0     LocalVariable   \n",
       "\n",
       "   fieldNotAssigned  fieldNotUsed  similarPrimitiveTypeWithNormalGuard  \\\n",
       "0                 0             0                                    0   \n",
       "1                 0             0                                    0   \n",
       "\n",
       "   similarPrimitiveTypeWithNullGuard  methodThrowsException  \\\n",
       "0                                  0                      0   \n",
       "1                                  0                      0   \n",
       "\n",
       "   objectUsedInAssignment  primitiveUsedInAssignment  \\\n",
       "0                       0                        0.0   \n",
       "1                       0                        0.0   \n",
       "\n",
       "   methodCallWithNormalGuard  \n",
       "0                        0.0  \n",
       "1                        0.0  \n",
       "\n",
       "[2 rows x 204 columns]"
      ]
     },
     "execution_count": 17,
     "metadata": {},
     "output_type": "execute_result"
    }
   ],
   "source": [
    "training.head(2)"
   ]
  },
  {
   "cell_type": "code",
   "execution_count": 18,
   "metadata": {},
   "outputs": [
    {
     "data": {
      "text/plain": [
       "(81, 204)"
      ]
     },
     "execution_count": 18,
     "metadata": {},
     "output_type": "execute_result"
    }
   ],
   "source": [
    "for f in RZero_testing_list:\n",
    "    data = pd.read_csv(f, encoding='latin1',index_col=False)\n",
    "    test = addtest.append(data, ignore_index=True)\n",
    "    \n",
    "test =  test.iloc[:,:204]\n",
    "test.shape"
   ]
  },
  {
   "cell_type": "code",
   "execution_count": 19,
   "metadata": {},
   "outputs": [
    {
     "name": "stdout",
     "output_type": "stream",
     "text": [
      "Total train:  (10302, 204)\n",
      "overfitting in train (8299, 204)\n",
      "correct in train (2003, 204)\n",
      "====================\n",
      "====================\n",
      "Total test:  (81, 204)\n",
      "overfitting in test (81, 204)\n",
      "correct in test (0, 204)\n"
     ]
    }
   ],
   "source": [
    "#statistics about training samples\n",
    "overfittingintrain = training[training['label']==1]\n",
    "correctintrain=training[training['label']==0]\n",
    "print(\"Total train: \", training.shape)\n",
    "print(\"overfitting in train\",overfittingintrain.shape)\n",
    "print(\"correct in train\",correctintrain.shape)\n",
    "print(\"====================\")\n",
    "#statistics about validation samples\n",
    "# overfittinginValidation = validation[validation['label']==1]\n",
    "# correctinValidation=validation[validation['label']==0]\n",
    "# print(\"Total validation: \", validation.shape)\n",
    "# print(\"overfitting in train\",overfittinginValidation.shape)\n",
    "# print(\"correct in train\",correctinValidation.shape)\n",
    "print(\"====================\")\n",
    "#statistics about test samples\n",
    "overfittingintest = test[test['label']==1]\n",
    "correctintest=test[test['label']==0]\n",
    "print(\"Total test: \",test.shape)\n",
    "print(\"overfitting in test\",overfittingintest.shape)\n",
    "print(\"correct in test\",correctintest.shape)"
   ]
  },
  {
   "cell_type": "code",
   "execution_count": 20,
   "metadata": {},
   "outputs": [],
   "source": [
    "# 202 features\n",
    "test_file_name = test.iloc[:,0]\n",
    "X_train = training.iloc[:,2:]\n",
    "Y_train = training.iloc[:,1]\n",
    "X_test = test.iloc[:,2:]\n",
    "Y_test = test.iloc[:,1]\n"
   ]
  },
  {
   "cell_type": "markdown",
   "metadata": {},
   "source": [
    "# process category features"
   ]
  },
  {
   "cell_type": "code",
   "execution_count": 21,
   "metadata": {},
   "outputs": [
    {
     "name": "stdout",
     "output_type": "stream",
     "text": [
      "Index(['srcABSTV', 'srcAssignConst', 'srcAssignLHS', 'srcAssignZero',\n",
      "       'srcCALLEE', 'srcCallArgument', 'srcChanged', 'srcDEREF',\n",
      "       'srcFuncArgument', 'srcGlobalVariable',\n",
      "       ...\n",
      "       'typeOfFaultyStmt_ NewClass', 'typeOfFaultyStmt_ OperatorAssignment',\n",
      "       'typeOfFaultyStmt_ Parameter', 'typeOfFaultyStmt_ Return',\n",
      "       'typeOfFaultyStmt_ Switch', 'typeOfFaultyStmt_ Throw',\n",
      "       'typeOfFaultyStmt_ Try', 'typeOfFaultyStmt_ TypeReference',\n",
      "       'typeOfFaultyStmt_ UnaryOperator', 'typeOfFaultyStmt_ While'],\n",
      "      dtype='object', length=451)\n"
     ]
    },
    {
     "data": {
      "text/html": [
       "<div>\n",
       "<style scoped>\n",
       "    .dataframe tbody tr th:only-of-type {\n",
       "        vertical-align: middle;\n",
       "    }\n",
       "\n",
       "    .dataframe tbody tr th {\n",
       "        vertical-align: top;\n",
       "    }\n",
       "\n",
       "    .dataframe thead th {\n",
       "        text-align: right;\n",
       "    }\n",
       "</style>\n",
       "<table border=\"1\" class=\"dataframe\">\n",
       "  <thead>\n",
       "    <tr style=\"text-align: right;\">\n",
       "      <th></th>\n",
       "      <th>srcABSTV</th>\n",
       "      <th>srcAssignConst</th>\n",
       "      <th>srcAssignLHS</th>\n",
       "      <th>srcAssignZero</th>\n",
       "      <th>srcCALLEE</th>\n",
       "      <th>srcCallArgument</th>\n",
       "      <th>srcChanged</th>\n",
       "      <th>srcDEREF</th>\n",
       "      <th>srcFuncArgument</th>\n",
       "      <th>srcGlobalVariable</th>\n",
       "      <th>...</th>\n",
       "      <th>typeOfFaultyStmt_ NewClass</th>\n",
       "      <th>typeOfFaultyStmt_ OperatorAssignment</th>\n",
       "      <th>typeOfFaultyStmt_ Parameter</th>\n",
       "      <th>typeOfFaultyStmt_ Return</th>\n",
       "      <th>typeOfFaultyStmt_ Switch</th>\n",
       "      <th>typeOfFaultyStmt_ Throw</th>\n",
       "      <th>typeOfFaultyStmt_ Try</th>\n",
       "      <th>typeOfFaultyStmt_ TypeReference</th>\n",
       "      <th>typeOfFaultyStmt_ UnaryOperator</th>\n",
       "      <th>typeOfFaultyStmt_ While</th>\n",
       "    </tr>\n",
       "  </thead>\n",
       "  <tbody>\n",
       "    <tr>\n",
       "      <th>0</th>\n",
       "      <td>0.0</td>\n",
       "      <td>0.0</td>\n",
       "      <td>0.0</td>\n",
       "      <td>0.0</td>\n",
       "      <td>1.0</td>\n",
       "      <td>0.0</td>\n",
       "      <td>0.0</td>\n",
       "      <td>0.0</td>\n",
       "      <td>0.0</td>\n",
       "      <td>1.0</td>\n",
       "      <td>...</td>\n",
       "      <td>0.0</td>\n",
       "      <td>0.0</td>\n",
       "      <td>0.0</td>\n",
       "      <td>0.0</td>\n",
       "      <td>0.0</td>\n",
       "      <td>0.0</td>\n",
       "      <td>0.0</td>\n",
       "      <td>0.0</td>\n",
       "      <td>0.0</td>\n",
       "      <td>0.0</td>\n",
       "    </tr>\n",
       "    <tr>\n",
       "      <th>1</th>\n",
       "      <td>0.0</td>\n",
       "      <td>0.0</td>\n",
       "      <td>0.0</td>\n",
       "      <td>0.0</td>\n",
       "      <td>2.0</td>\n",
       "      <td>1.0</td>\n",
       "      <td>0.0</td>\n",
       "      <td>0.0</td>\n",
       "      <td>1.0</td>\n",
       "      <td>2.0</td>\n",
       "      <td>...</td>\n",
       "      <td>0.0</td>\n",
       "      <td>0.0</td>\n",
       "      <td>0.0</td>\n",
       "      <td>0.0</td>\n",
       "      <td>0.0</td>\n",
       "      <td>0.0</td>\n",
       "      <td>0.0</td>\n",
       "      <td>0.0</td>\n",
       "      <td>0.0</td>\n",
       "      <td>0.0</td>\n",
       "    </tr>\n",
       "  </tbody>\n",
       "</table>\n",
       "<p>2 rows × 451 columns</p>\n",
       "</div>"
      ],
      "text/plain": [
       "   srcABSTV  srcAssignConst  srcAssignLHS  srcAssignZero  srcCALLEE  \\\n",
       "0       0.0             0.0           0.0            0.0        1.0   \n",
       "1       0.0             0.0           0.0            0.0        2.0   \n",
       "\n",
       "   srcCallArgument  srcChanged  srcDEREF  srcFuncArgument  srcGlobalVariable  \\\n",
       "0              0.0         0.0       0.0              0.0                1.0   \n",
       "1              1.0         0.0       0.0              1.0                2.0   \n",
       "\n",
       "   ...  typeOfFaultyStmt_ NewClass  typeOfFaultyStmt_ OperatorAssignment  \\\n",
       "0  ...                         0.0                                   0.0   \n",
       "1  ...                         0.0                                   0.0   \n",
       "\n",
       "   typeOfFaultyStmt_ Parameter  typeOfFaultyStmt_ Return  \\\n",
       "0                          0.0                       0.0   \n",
       "1                          0.0                       0.0   \n",
       "\n",
       "   typeOfFaultyStmt_ Switch  typeOfFaultyStmt_ Throw  typeOfFaultyStmt_ Try  \\\n",
       "0                       0.0                      0.0                    0.0   \n",
       "1                       0.0                      0.0                    0.0   \n",
       "\n",
       "   typeOfFaultyStmt_ TypeReference  typeOfFaultyStmt_ UnaryOperator  \\\n",
       "0                              0.0                              0.0   \n",
       "1                              0.0                              0.0   \n",
       "\n",
       "   typeOfFaultyStmt_ While  \n",
       "0                      0.0  \n",
       "1                      0.0  \n",
       "\n",
       "[2 rows x 451 columns]"
      ]
     },
     "execution_count": 21,
     "metadata": {},
     "output_type": "execute_result"
    }
   ],
   "source": [
    "X_train = pd.get_dummies(X_train)\n",
    "X_test = pd.get_dummies(X_test)\n",
    "X_train,X_test=X_train.align(X_test,join='left',axis=1)\n",
    "X_train.head(2)\n",
    "X_test.head(2)\n",
    "headers = X_train.columns\n",
    "print(headers)\n",
    "training.isnull().sum()\n",
    "from sklearn.impute import SimpleImputer\n",
    "imputer = SimpleImputer(missing_values = np.nan , strategy = 'most_frequent')\n",
    "imputer = imputer.fit(X_train)\n",
    "X_train = imputer.transform(X_train)\n",
    "X_test = imputer.transform(X_test)\n",
    "\n",
    "X_train = pd.DataFrame(X_train,columns=headers)\n",
    "X_test = pd.DataFrame(X_test,columns=headers)\n",
    "\n",
    "X_train.head(2)"
   ]
  },
  {
   "cell_type": "code",
   "execution_count": 22,
   "metadata": {},
   "outputs": [
    {
     "name": "stdout",
     "output_type": "stream",
     "text": [
      "(10302, 451)\n",
      "(81, 451)\n"
     ]
    }
   ],
   "source": [
    "print(X_train.shape)\n",
    "print(X_test.shape)"
   ]
  },
  {
   "cell_type": "markdown",
   "metadata": {},
   "source": [
    "# Shuffle the training and test data"
   ]
  },
  {
   "cell_type": "code",
   "execution_count": 23,
   "metadata": {
    "scrolled": true
   },
   "outputs": [],
   "source": [
    "from sklearn.utils import shuffle\n",
    "X_train, Y_train = shuffle(X_train, Y_train, random_state=0)"
   ]
  },
  {
   "cell_type": "code",
   "execution_count": 24,
   "metadata": {},
   "outputs": [
    {
     "data": {
      "text/plain": [
       "((10302, 451), (10302,))"
      ]
     },
     "execution_count": 24,
     "metadata": {},
     "output_type": "execute_result"
    }
   ],
   "source": [
    "X_train.shape,  Y_train.shape"
   ]
  },
  {
   "cell_type": "code",
   "execution_count": 25,
   "metadata": {
    "scrolled": true
   },
   "outputs": [
    {
     "data": {
      "text/plain": [
       "((81, 451), (81,))"
      ]
     },
     "execution_count": 25,
     "metadata": {},
     "output_type": "execute_result"
    }
   ],
   "source": [
    "X_test.shape, Y_test.shape"
   ]
  },
  {
   "cell_type": "code",
   "execution_count": 26,
   "metadata": {},
   "outputs": [
    {
     "name": "stdout",
     "output_type": "stream",
     "text": [
      "[0]\tvalidation_0-map:1.00000\n",
      "Will train until validation_0-map hasn't improved in 5 rounds.\n",
      "[1]\tvalidation_0-map:1.00000\n",
      "[2]\tvalidation_0-map:1.00000\n",
      "[3]\tvalidation_0-map:1.00000\n",
      "[4]\tvalidation_0-map:1.00000\n",
      "[5]\tvalidation_0-map:1.00000\n",
      "Stopping. Best iteration:\n",
      "[0]\tvalidation_0-map:1.00000\n",
      "\n",
      "f1 score: 0.8827586206896552\n",
      "acc score: 0.7901234567901234\n",
      "precision score: 1.0\n",
      "recall score: 0.7901234567901234\n"
     ]
    },
    {
     "data": {
      "image/png": "[encoded data removed]",
      "text/plain": [
       "<Figure size 432x288 with 2 Axes>"
      ]
     },
     "metadata": {
      "needs_background": "light"
     },
     "output_type": "display_data"
    }
   ],
   "source": [
    "import xgboost as xgb\n",
    "from sklearn.metrics import recall_score\n",
    "from sklearn.metrics import f1_score\n",
    "from sklearn.metrics import precision_score\n",
    "from sklearn.metrics import accuracy_score\n",
    "\n",
    "model = xgb.XGBClassifier(random_state=42, max_depth=6)\n",
    "eval_set=[(X_test,Y_test)]\n",
    "model.fit(X_train,Y_train, early_stopping_rounds=5, eval_metric=\"map\", eval_set=eval_set)\n",
    "\n",
    "Y_pred = model.predict(X_test)\n",
    "cnf_matrix = confusion_matrix(Y_test,Y_pred)\n",
    "\n",
    "f1s = f1_score(Y_test, Y_pred, zero_division=1)\n",
    "print('f1 score:', f1s)\n",
    "acc = accuracy_score(Y_test, Y_pred)\n",
    "print('acc score:', acc)\n",
    "precisionsc = precision_score(Y_test, Y_pred)\n",
    "print('precision score:', precisionsc)\n",
    "recall = recall_score(Y_test, Y_pred)\n",
    "print('recall score:', recall)\n",
    "\n",
    "# Plot non-normalized confusion matrix\n",
    "class_names = ['correct','overfitting']\n",
    "plt.figure()\n",
    "plot_confusion_matrix(cnf_matrix\n",
    "                      , classes=class_names\n",
    "                      , title='Confusion matrix')\n",
    "plt.show()  \n"
   ]
  },
  {
   "cell_type": "code",
   "execution_count": 27,
   "metadata": {},
   "outputs": [
    {
     "name": "stdout",
     "output_type": "stream",
     "text": [
      "                      patch  label\n",
      "0          taljmars-patch_1      0\n",
      "1    RBMHTechnology-patch_1      1\n",
      "2   clebertsuconic-patch_27      1\n",
      "3        featurecat-patch_8      1\n",
      "4    java-group-blr-patch_1      1\n",
      "5   clebertsuconic-patch_31      1\n",
      "6   clebertsuconic-patch_46      1\n",
      "7   clebertsuconic-patch_11      1\n",
      "8   clebertsuconic-patch_50      0\n",
      "9        featurecat-patch_4      1\n",
      "10           Luki42-patch_1      1\n",
      "11       featurecat-patch_5      1\n",
      "12  clebertsuconic-patch_51      0\n",
      "13  clebertsuconic-patch_10      1\n",
      "14          vert-x3-patch_2      1\n",
      "15  clebertsuconic-patch_47      0\n",
      "16       featurecat-patch_9      1\n",
      "17  clebertsuconic-patch_26      1\n",
      "18   clebertsuconic-patch_1      1\n",
      "19  clebertsuconic-patch_40      0\n",
      "20  clebertsuconic-patch_17      1\n",
      "21  clebertsuconic-patch_56      1\n",
      "22       featurecat-patch_2      1\n",
      "23   clebertsuconic-patch_6      1\n",
      "24  clebertsuconic-patch_37      0\n",
      "25  clebertsuconic-patch_20      1\n",
      "26   clebertsuconic-patch_7      1\n",
      "27   RBMHTechnology-patch_6      0\n",
      "28          vert-x3-patch_8      0\n",
      "29       featurecat-patch_3      1\n"
     ]
    }
   ],
   "source": [
    "d={'patch':test_file_name,'label':Y_pred}\n",
    "fn3 = pd.DataFrame(d)\n",
    "fn3.to_csv('./data/RZeroPatchLabel.csv')\n",
    "print(fn3.head(30))"
   ]
  }
 ],
 "metadata": {
  "kernelspec": {
   "display_name": "Python 3",
   "language": "python",
   "name": "python3"
  },
  "language_info": {
   "codemirror_mode": {
    "name": "ipython",
    "version": 3
   },
   "file_extension": ".py",
   "mimetype": "text/x-python",
   "name": "python",
   "nbconvert_exporter": "python",
   "pygments_lexer": "ipython3",
   "version": "3.6.10"
  }
 },
 "nbformat": 4,
 "nbformat_minor": 2
}
